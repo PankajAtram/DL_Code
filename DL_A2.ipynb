{
 "cells": [
  {
   "cell_type": "markdown",
   "metadata": {
    "id": "tPIKfVcI7cXn"
   },
   "source": [
    "Name: **Pankaj Atram**<br>\n",
    "Div: **BE10-P10**<br>\n",
    "Roll no: **43206**<br>\n",
    "Title: **Assignment 2: Implementing Feedforward neural networks with Keras and TensorFlow**<br>"
   ]
  },
  {
   "cell_type": "code",
   "execution_count": 1,
   "metadata": {
    "id": "hcpVc-38-OFf"
   },
   "outputs": [],
   "source": [
    "#installations\n",
    "from sklearn.preprocessing import LabelBinarizer\n",
    "from sklearn.metrics import classification_report\n",
    "from tensorflow.keras.models import Sequential\n",
    "from tensorflow.keras.layers import Dense\n",
    "from tensorflow.keras.optimizers import SGD\n",
    "from tensorflow.keras.datasets import mnist\n",
    "from tensorflow.keras import backend as K\n",
    "import matplotlib.pyplot as plt\n",
    "import numpy as np"
   ]
  },
  {
   "cell_type": "code",
   "execution_count": 2,
   "metadata": {
    "id": "LUZLOYG8-Yz2"
   },
   "outputs": [
    {
     "name": "stdout",
     "output_type": "stream",
     "text": [
      "Downloading data from https://storage.googleapis.com/tensorflow/tf-keras-datasets/mnist.npz\n",
      "11490434/11490434 [==============================] - 6s 1us/step\n"
     ]
    }
   ],
   "source": [
    "#grabbing the mnist dataset\n",
    "((X_train, Y_train), (X_test, Y_test)) = mnist.load_data()\n",
    "X_train = X_train.reshape((X_train.shape[0], 28 * 28 * 1))\n",
    "X_test = X_test.reshape((X_test.shape[0], 28 * 28 * 1))\n",
    "X_train = X_train.astype(\"float32\") / 255.0\n",
    "X_test = X_test.astype(\"float32\") / 255.0"
   ]
  },
  {
   "cell_type": "code",
   "execution_count": 3,
   "metadata": {
    "id": "rGDSwm8e-i44"
   },
   "outputs": [],
   "source": [
    "lb = LabelBinarizer()\n",
    "Y_train = lb.fit_transform(Y_train)\n",
    "Y_test = lb.transform(Y_test)"
   ]
  },
  {
   "cell_type": "code",
   "execution_count": 4,
   "metadata": {
    "id": "lxBbB-yA-s_g"
   },
   "outputs": [],
   "source": [
    "#building the model\n",
    "model = Sequential()\n",
    "model.add(Dense(128, input_shape=(784,), activation=\"sigmoid\"))\n",
    "model.add(Dense(64, activation=\"sigmoid\"))\n",
    "model.add(Dense(10, activation=\"softmax\"))"
   ]
  },
  {
   "cell_type": "code",
   "execution_count": 5,
   "metadata": {
    "colab": {
     "base_uri": "https://localhost:8080/"
    },
    "id": "xKc03Mvz-wrz",
    "outputId": "b0544424-d139-48f9-c1bc-1f6f5d659645"
   },
   "outputs": [
    {
     "name": "stdout",
     "output_type": "stream",
     "text": [
      "Epoch 1/10\n",
      "469/469 [==============================] - 5s 5ms/step - loss: 2.2744 - accuracy: 0.1863 - val_loss: 2.2437 - val_accuracy: 0.2801\n",
      "Epoch 2/10\n",
      "469/469 [==============================] - 1s 3ms/step - loss: 2.2150 - accuracy: 0.3509 - val_loss: 2.1800 - val_accuracy: 0.4250\n",
      "Epoch 3/10\n",
      "469/469 [==============================] - 1s 3ms/step - loss: 2.1413 - accuracy: 0.4822 - val_loss: 2.0905 - val_accuracy: 0.5339\n",
      "Epoch 4/10\n",
      "469/469 [==============================] - 1s 3ms/step - loss: 2.0359 - accuracy: 0.5480 - val_loss: 1.9625 - val_accuracy: 0.5688\n",
      "Epoch 5/10\n",
      "469/469 [==============================] - 1s 3ms/step - loss: 1.8883 - accuracy: 0.5835 - val_loss: 1.7917 - val_accuracy: 0.6112\n",
      "Epoch 6/10\n",
      "469/469 [==============================] - 1s 3ms/step - loss: 1.7056 - accuracy: 0.6237 - val_loss: 1.5981 - val_accuracy: 0.6296\n",
      "Epoch 7/10\n",
      "469/469 [==============================] - 1s 3ms/step - loss: 1.5160 - accuracy: 0.6540 - val_loss: 1.4144 - val_accuracy: 0.6983\n",
      "Epoch 8/10\n",
      "469/469 [==============================] - 1s 3ms/step - loss: 1.3461 - accuracy: 0.6929 - val_loss: 1.2586 - val_accuracy: 0.7174\n",
      "Epoch 9/10\n",
      "469/469 [==============================] - 1s 3ms/step - loss: 1.2051 - accuracy: 0.7212 - val_loss: 1.1313 - val_accuracy: 0.7462\n",
      "Epoch 10/10\n",
      "469/469 [==============================] - 1s 3ms/step - loss: 1.0896 - accuracy: 0.7479 - val_loss: 1.0267 - val_accuracy: 0.7640\n"
     ]
    }
   ],
   "source": [
    "sgd = SGD(0.01)\n",
    "epochs=10\n",
    "model.compile(loss=\"categorical_crossentropy\", optimizer=sgd,metrics=[\"accuracy\"])\n",
    "H = model.fit(X_train, Y_train, validation_data=(X_test, Y_test),epochs=epochs, batch_size=128)"
   ]
  },
  {
   "cell_type": "code",
   "execution_count": 6,
   "metadata": {
    "colab": {
     "base_uri": "https://localhost:8080/"
    },
    "id": "Mhq0Upb3-8O3",
    "outputId": "eba335a5-13da-4ebd-dafa-1c137c15ff89"
   },
   "outputs": [
    {
     "name": "stdout",
     "output_type": "stream",
     "text": [
      "79/79 [==============================] - 0s 2ms/step\n",
      "              precision    recall  f1-score   support\n",
      "\n",
      "           0       0.82      0.95      0.88       980\n",
      "           1       0.79      0.99      0.88      1135\n",
      "           2       0.82      0.72      0.77      1032\n",
      "           3       0.65      0.86      0.74      1010\n",
      "           4       0.70      0.81      0.75       982\n",
      "           5       0.83      0.41      0.55       892\n",
      "           6       0.83      0.89      0.86       958\n",
      "           7       0.75      0.87      0.80      1028\n",
      "           8       0.84      0.57      0.68       974\n",
      "           9       0.68      0.51      0.58      1009\n",
      "\n",
      "    accuracy                           0.76     10000\n",
      "   macro avg       0.77      0.76      0.75     10000\n",
      "weighted avg       0.77      0.76      0.75     10000\n",
      "\n"
     ]
    }
   ],
   "source": [
    "#making the predictions\n",
    "predictions = model.predict(X_test, batch_size=128)\n",
    "print(classification_report(Y_test.argmax(axis=1),predictions.argmax(axis=1),target_names=[str(x) for x in lb.classes_]))"
   ]
  },
  {
   "cell_type": "code",
   "execution_count": 7,
   "metadata": {
    "colab": {
     "base_uri": "https://localhost:8080/",
     "height": 316
    },
    "id": "DN7oqCII_Crw",
    "outputId": "6946110c-590d-4825-dabe-e030fefa519c"
   },
   "outputs": [
    {
     "data": {
      "text/plain": [
       "<matplotlib.legend.Legend at 0x29212f8d4f0>"
      ]
     },
     "execution_count": 7,
     "metadata": {},
     "output_type": "execute_result"
    },
    {
     "data": {
      "image/png": "[encoded data removed]",
      "text/plain": [
       "<Figure size 432x288 with 1 Axes>"
      ]
     },
     "metadata": {},
     "output_type": "display_data"
    }
   ],
   "source": [
    "#plotting the training loss and accuracy\n",
    "plt.style.use(\"ggplot\")\n",
    "plt.figure()\n",
    "plt.plot(np.arange(0, epochs), H.history[\"loss\"], label=\"train_loss\")\n",
    "plt.plot(np.arange(0, epochs), H.history[\"val_loss\"], label=\"val_loss\")\n",
    "plt.plot(np.arange(0, epochs), H.history[\"accuracy\"], label=\"train_acc\")\n",
    "plt.plot(np.arange(0, epochs), H.history[\"val_accuracy\"], label=\"val_acc\")\n",
    "plt.title(\"Training Loss and Accuracy\")\n",
    "plt.xlabel(\"Epoch #\")\n",
    "plt.ylabel(\"Loss/Accuracy\")\n",
    "plt.legend()"
   ]
  },
  {
   "cell_type": "code",
   "execution_count": null,
   "metadata": {
    "id": "dsgxIAZF9na1"
   },
   "outputs": [],
   "source": []
  }
 ],
 "metadata": {
  "colab": {
   "collapsed_sections": [],
   "provenance": []
  },
  "kernelspec": {
   "display_name": "Python 3",
   "language": "python",
   "name": "python3"
  },
  "language_info": {
   "codemirror_mode": {
    "name": "ipython",
    "version": 3
   },
   "file_extension": ".py",
   "mimetype": "text/x-python",
   "name": "python",
   "nbconvert_exporter": "python",
   "pygments_lexer": "ipython3",
   "version": "3.8.8"
  }
 },
 "nbformat": 4,
 "nbformat_minor": 1
}
